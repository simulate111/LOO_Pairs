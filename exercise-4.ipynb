{
 "cells": [
  {
   "cell_type": "markdown",
   "metadata": {},
   "source": [
    "# TKO_7092 Evaluation of Machine Learning Methods 2024"
   ]
  },
  {
   "cell_type": "markdown",
   "metadata": {},
   "source": [
    "---\n",
    "\n",
    "Student name: Mohammadreza Akhtari\n",
    "\n",
    "Student number: 2304399\n",
    "\n",
    "Student email: mohammadreza.akhtari@utu.fi\n",
    "\n",
    "---"
   ]
  },
  {
   "cell_type": "markdown",
   "metadata": {},
   "source": [
    "## Exercise 4\n",
    "\n",
    "Complete the tasks given to you in the letter below. In your submission, explain clearly, precisely, and comprehensively why the cross-validation described in the letter failed, how cross-validation should be performed in the given scenario and why  your cross-validation will give a reliable estimate of the generalisation performance. Then implement the correct cross-validation for the scenario and report its results.\n",
    "\n",
    "Remember to follow all the general exercise guidelines that are stated in Moodle. Full points (2p) will be given for a submission that demonstrates a deep understanding of cross-validation on pair-input data and implements the requested cross-validation correctly (incl. reporting the results). Partial points (1p) will be given if there are small error(s) but the overall approach is correct. No points will be given if there are significant error(s).\n",
    "\n",
    "The deadline of this exercise is **Wednesday 21 February 2024 at 11:59 PM**. Please contact Juho Heimonen (juaheim@utu.fi) if you have any questions about this exercise.\n",
    "\n",
    "---\n"
   ]
  },
  {
   "cell_type": "markdown",
   "metadata": {
    "tags": []
   },
   "source": [
    "Dear Data Scientist,\n",
    "\n",
    "I have a long-term research project regarding a specific set of proteins. Currently I am attempting to discover small organic compounds that can bind strongly to these proteins and thus act as drugs. I have a list of over 100.000 potential drug molecules, but their affinities still need to be verified in the lab. Obviously I do not have the resources to measure all the possible drug-target pairs, so I need to prioritise. I have decided to do this with the use of machine learning, but I have encountered a problem.\n",
    "\n",
    "Here is what I have done so far: First I trained a K-nearest neighbours regressor with the parameter value K=10 using all the 400 measurements I had made in the lab, which comprise of all the 77 target proteins of interest but only 59 different drug molecules. Then I performed a leave-one-out cross-validation with this same data to estimate the generalisation performance of the model. I used C-index and got a stellar score above 90%. Finally I used the model to predict the affinities of the remaining drug molecules. The problem is: when I selected the highest predicted affinities and tried to verify them in the lab, I found that many of them are much lower in reality. My model clearly does not work despite the high cross-validation score.\n",
    "\n",
    "Please explain why my estimation failed and how leave-one-out cross-validation should be performed to get a reliable estimate. Also, implement the correct leave-one-out cross-validation and report its results. I need to know whether I am wasting my lab resources by using my model.\n",
    "\n",
    "The data I used to create my model is available in the files `input.data`, `output.data` and `pairs.data` for you to use. The first file contains the features of the pairs, whereas the second contains their affinities. The third file contains the identifiers of the drug and target molecules of which the pairs are composed. The files are paired, i.e. the i<sup>*th*</sup> row in each file is about the same pair.\n",
    "\n",
    "Looking forward to hearing from you soon.\n",
    "\n",
    "Yours sincerely, \\\n",
    "Bio Scientist\n",
    "\n",
    "---"
   ]
  },
  {
   "cell_type": "markdown",
   "metadata": {},
   "source": [
    "#### Answer the questions about cross-validation on pair-input data"
   ]
  },
  {
   "cell_type": "code",
   "execution_count": 1,
   "metadata": {},
   "outputs": [],
   "source": [
    "# Why did the estimation described in the letter fail?\n",
    "\n",
    "# We should notice that drug-target interaction are pair-input issue and should not be considered independent, which is the assumption in lleave-one-out cross validation.\n",
    "#Therefore, conventional cross-validation leads to the optimistic or unrealistic results for generalization to unseen data.\n",
    "#In other words, trainnig dataset share the same dependencies with test dataset.\n",
    "#So, pair-input having dependencies as they share data or information together and should not be considered independent for leave-one-out-cross validation to achieve better results in practice.\n",
    "#*********************************************************************************************************************************************************************\n",
    "# How should leave-one-out cross-validation be performed in the given scenario and why?\n",
    "# Remember to provide comprehensive and precise arguments.\n",
    "\n",
    "#First of all, the evaluation method should be independent of pair-input data set. TO perform leave-one-one-out cross validation, we should consider the out of sample observations.\n",
    "#For predicting inside the samples, we perform normal cross validation.->Training are all in sample observation excluding the test samples.\n",
    "#For those data which has the second element in common (type B), we should remove those data which share the first values for training observations.\n",
    "#If out of smaple is in C region sharing the first element, we should remove those data which share the second element with test data.\n",
    "#For type D, test data which share both the first and second element should be removed to obtain more realistic outcomes."
   ]
  },
  {
   "cell_type": "markdown",
   "metadata": {},
   "source": [
    "#### Import libraries"
   ]
  },
  {
   "cell_type": "code",
   "execution_count": 2,
   "metadata": {
    "tags": []
   },
   "outputs": [],
   "source": [
    "# Import the libraries you need.\n",
    "import numpy as np\n",
    "import pandas as pd\n",
    "from sklearn.model_selection import cross_val_score, KFold, LeaveOneOut\n",
    "from sklearn.neighbors import KNeighborsRegressor\n",
    "from sklearn.preprocessing import StandardScaler"
   ]
  },
  {
   "cell_type": "markdown",
   "metadata": {},
   "source": [
    "#### Write utility functions"
   ]
  },
  {
   "cell_type": "code",
   "execution_count": 3,
   "metadata": {
    "tags": []
   },
   "outputs": [],
   "source": [
    "# Write the utility functions you need in your analysis.\n",
    "\"\"\"\n",
    "C-index function: \n",
    "- INPUTS: \n",
    "'y' an array of the true output values\n",
    "'yp' an array of predicted output values\n",
    "- OUTPUT: \n",
    "The c-index value\n",
    "\"\"\"\n",
    "def cindex(y, yp):\n",
    "    n = 0\n",
    "    h_num = 0 \n",
    "    for i in range(0, len(y)):\n",
    "        t = y[i]\n",
    "        p = yp[i]\n",
    "        for j in range(i+1, len(y)):\n",
    "            nt = y[j]\n",
    "            np = yp[j]\n",
    "            if (t != nt): \n",
    "                n = n + 1\n",
    "                if (p < np and t < nt) or (p > np and t > nt): \n",
    "                    h_num += 1\n",
    "                elif (p == np):\n",
    "                    h_num += 0.5\n",
    "\n",
    "    # Check if n is zero before division\n",
    "    if n == 0:\n",
    "        return 0.0\n",
    "    else:\n",
    "        return h_num / n\n",
    "\n"
   ]
  },
  {
   "cell_type": "markdown",
   "metadata": {},
   "source": [
    "#### Load datasets"
   ]
  },
  {
   "cell_type": "code",
   "execution_count": 4,
   "metadata": {
    "tags": []
   },
   "outputs": [
    {
     "data": {
      "text/plain": [
       "'input:'"
      ]
     },
     "metadata": {},
     "output_type": "display_data"
    },
    {
     "data": {
      "text/html": [
       "<div>\n",
       "<style scoped>\n",
       "    .dataframe tbody tr th:only-of-type {\n",
       "        vertical-align: middle;\n",
       "    }\n",
       "\n",
       "    .dataframe tbody tr th {\n",
       "        vertical-align: top;\n",
       "    }\n",
       "\n",
       "    .dataframe thead th {\n",
       "        text-align: right;\n",
       "    }\n",
       "</style>\n",
       "<table border=\"1\" class=\"dataframe\">\n",
       "  <thead>\n",
       "    <tr style=\"text-align: right;\">\n",
       "      <th></th>\n",
       "      <th>0</th>\n",
       "      <th>1</th>\n",
       "      <th>2</th>\n",
       "      <th>3</th>\n",
       "      <th>4</th>\n",
       "      <th>5</th>\n",
       "      <th>6</th>\n",
       "      <th>7</th>\n",
       "      <th>8</th>\n",
       "      <th>9</th>\n",
       "      <th>...</th>\n",
       "      <th>57</th>\n",
       "      <th>58</th>\n",
       "      <th>59</th>\n",
       "      <th>60</th>\n",
       "      <th>61</th>\n",
       "      <th>62</th>\n",
       "      <th>63</th>\n",
       "      <th>64</th>\n",
       "      <th>65</th>\n",
       "      <th>66</th>\n",
       "    </tr>\n",
       "  </thead>\n",
       "  <tbody>\n",
       "    <tr>\n",
       "      <th>0</th>\n",
       "      <td>0.759222</td>\n",
       "      <td>0.709585</td>\n",
       "      <td>0.253151</td>\n",
       "      <td>0.421082</td>\n",
       "      <td>0.727780</td>\n",
       "      <td>0.404487</td>\n",
       "      <td>0.709027</td>\n",
       "      <td>0.242963</td>\n",
       "      <td>0.407292</td>\n",
       "      <td>0.379971</td>\n",
       "      <td>...</td>\n",
       "      <td>0.838616</td>\n",
       "      <td>0.165050</td>\n",
       "      <td>0.515334</td>\n",
       "      <td>0.332678</td>\n",
       "      <td>0.577533</td>\n",
       "      <td>0.678125</td>\n",
       "      <td>0.463608</td>\n",
       "      <td>0.538938</td>\n",
       "      <td>0.460883</td>\n",
       "      <td>0.345251</td>\n",
       "    </tr>\n",
       "    <tr>\n",
       "      <th>1</th>\n",
       "      <td>0.034584</td>\n",
       "      <td>0.304720</td>\n",
       "      <td>0.688257</td>\n",
       "      <td>0.296396</td>\n",
       "      <td>0.151878</td>\n",
       "      <td>0.830755</td>\n",
       "      <td>0.270656</td>\n",
       "      <td>0.705392</td>\n",
       "      <td>0.186120</td>\n",
       "      <td>0.085594</td>\n",
       "      <td>...</td>\n",
       "      <td>0.472762</td>\n",
       "      <td>0.730013</td>\n",
       "      <td>0.639373</td>\n",
       "      <td>0.445218</td>\n",
       "      <td>0.455680</td>\n",
       "      <td>0.090737</td>\n",
       "      <td>0.308432</td>\n",
       "      <td>0.079023</td>\n",
       "      <td>0.603089</td>\n",
       "      <td>0.197008</td>\n",
       "    </tr>\n",
       "    <tr>\n",
       "      <th>2</th>\n",
       "      <td>0.737867</td>\n",
       "      <td>0.236079</td>\n",
       "      <td>0.905987</td>\n",
       "      <td>0.163612</td>\n",
       "      <td>0.801455</td>\n",
       "      <td>0.789823</td>\n",
       "      <td>0.393999</td>\n",
       "      <td>0.522067</td>\n",
       "      <td>0.411352</td>\n",
       "      <td>0.781861</td>\n",
       "      <td>...</td>\n",
       "      <td>0.595468</td>\n",
       "      <td>0.582292</td>\n",
       "      <td>0.836193</td>\n",
       "      <td>0.281514</td>\n",
       "      <td>0.791790</td>\n",
       "      <td>0.081695</td>\n",
       "      <td>0.583450</td>\n",
       "      <td>0.422539</td>\n",
       "      <td>0.076437</td>\n",
       "      <td>0.299662</td>\n",
       "    </tr>\n",
       "    <tr>\n",
       "      <th>3</th>\n",
       "      <td>0.406913</td>\n",
       "      <td>0.607740</td>\n",
       "      <td>0.235365</td>\n",
       "      <td>0.888679</td>\n",
       "      <td>0.150347</td>\n",
       "      <td>0.598991</td>\n",
       "      <td>0.130108</td>\n",
       "      <td>0.465818</td>\n",
       "      <td>0.799953</td>\n",
       "      <td>0.906878</td>\n",
       "      <td>...</td>\n",
       "      <td>0.453880</td>\n",
       "      <td>0.311799</td>\n",
       "      <td>0.534668</td>\n",
       "      <td>0.563793</td>\n",
       "      <td>0.727767</td>\n",
       "      <td>0.172686</td>\n",
       "      <td>0.908368</td>\n",
       "      <td>0.786892</td>\n",
       "      <td>0.790459</td>\n",
       "      <td>0.666388</td>\n",
       "    </tr>\n",
       "    <tr>\n",
       "      <th>4</th>\n",
       "      <td>0.697707</td>\n",
       "      <td>0.432565</td>\n",
       "      <td>0.650329</td>\n",
       "      <td>0.886065</td>\n",
       "      <td>0.328660</td>\n",
       "      <td>0.576926</td>\n",
       "      <td>0.523100</td>\n",
       "      <td>0.080463</td>\n",
       "      <td>0.131349</td>\n",
       "      <td>0.913496</td>\n",
       "      <td>...</td>\n",
       "      <td>0.583892</td>\n",
       "      <td>0.444141</td>\n",
       "      <td>0.249423</td>\n",
       "      <td>0.110690</td>\n",
       "      <td>0.420770</td>\n",
       "      <td>0.250148</td>\n",
       "      <td>0.196350</td>\n",
       "      <td>0.427255</td>\n",
       "      <td>0.166715</td>\n",
       "      <td>0.919720</td>\n",
       "    </tr>\n",
       "  </tbody>\n",
       "</table>\n",
       "<p>5 rows × 67 columns</p>\n",
       "</div>"
      ],
      "text/plain": [
       "         0         1         2         3         4         5         6   \\\n",
       "0  0.759222  0.709585  0.253151  0.421082  0.727780  0.404487  0.709027   \n",
       "1  0.034584  0.304720  0.688257  0.296396  0.151878  0.830755  0.270656   \n",
       "2  0.737867  0.236079  0.905987  0.163612  0.801455  0.789823  0.393999   \n",
       "3  0.406913  0.607740  0.235365  0.888679  0.150347  0.598991  0.130108   \n",
       "4  0.697707  0.432565  0.650329  0.886065  0.328660  0.576926  0.523100   \n",
       "\n",
       "         7         8         9   ...        57        58        59        60  \\\n",
       "0  0.242963  0.407292  0.379971  ...  0.838616  0.165050  0.515334  0.332678   \n",
       "1  0.705392  0.186120  0.085594  ...  0.472762  0.730013  0.639373  0.445218   \n",
       "2  0.522067  0.411352  0.781861  ...  0.595468  0.582292  0.836193  0.281514   \n",
       "3  0.465818  0.799953  0.906878  ...  0.453880  0.311799  0.534668  0.563793   \n",
       "4  0.080463  0.131349  0.913496  ...  0.583892  0.444141  0.249423  0.110690   \n",
       "\n",
       "         61        62        63        64        65        66  \n",
       "0  0.577533  0.678125  0.463608  0.538938  0.460883  0.345251  \n",
       "1  0.455680  0.090737  0.308432  0.079023  0.603089  0.197008  \n",
       "2  0.791790  0.081695  0.583450  0.422539  0.076437  0.299662  \n",
       "3  0.727767  0.172686  0.908368  0.786892  0.790459  0.666388  \n",
       "4  0.420770  0.250148  0.196350  0.427255  0.166715  0.919720  \n",
       "\n",
       "[5 rows x 67 columns]"
      ]
     },
     "metadata": {},
     "output_type": "display_data"
    },
    {
     "data": {
      "text/plain": [
       "'input:'"
      ]
     },
     "metadata": {},
     "output_type": "display_data"
    },
    {
     "data": {
      "text/plain": [
       "(400, 67)"
      ]
     },
     "metadata": {},
     "output_type": "display_data"
    },
    {
     "data": {
      "text/plain": [
       "'output:'"
      ]
     },
     "metadata": {},
     "output_type": "display_data"
    },
    {
     "data": {
      "text/html": [
       "<div>\n",
       "<style scoped>\n",
       "    .dataframe tbody tr th:only-of-type {\n",
       "        vertical-align: middle;\n",
       "    }\n",
       "\n",
       "    .dataframe tbody tr th {\n",
       "        vertical-align: top;\n",
       "    }\n",
       "\n",
       "    .dataframe thead th {\n",
       "        text-align: right;\n",
       "    }\n",
       "</style>\n",
       "<table border=\"1\" class=\"dataframe\">\n",
       "  <thead>\n",
       "    <tr style=\"text-align: right;\">\n",
       "      <th></th>\n",
       "      <th>0</th>\n",
       "    </tr>\n",
       "  </thead>\n",
       "  <tbody>\n",
       "    <tr>\n",
       "      <th>0</th>\n",
       "      <td>0.733933</td>\n",
       "    </tr>\n",
       "    <tr>\n",
       "      <th>1</th>\n",
       "      <td>0.569419</td>\n",
       "    </tr>\n",
       "    <tr>\n",
       "      <th>2</th>\n",
       "      <td>0.832588</td>\n",
       "    </tr>\n",
       "    <tr>\n",
       "      <th>3</th>\n",
       "      <td>0.389664</td>\n",
       "    </tr>\n",
       "    <tr>\n",
       "      <th>4</th>\n",
       "      <td>0.725953</td>\n",
       "    </tr>\n",
       "  </tbody>\n",
       "</table>\n",
       "</div>"
      ],
      "text/plain": [
       "          0\n",
       "0  0.733933\n",
       "1  0.569419\n",
       "2  0.832588\n",
       "3  0.389664\n",
       "4  0.725953"
      ]
     },
     "metadata": {},
     "output_type": "display_data"
    },
    {
     "data": {
      "text/plain": [
       "'output:'"
      ]
     },
     "metadata": {},
     "output_type": "display_data"
    },
    {
     "data": {
      "text/plain": [
       "(400, 1)"
      ]
     },
     "metadata": {},
     "output_type": "display_data"
    },
    {
     "data": {
      "text/plain": [
       "'pairs:'"
      ]
     },
     "metadata": {},
     "output_type": "display_data"
    },
    {
     "data": {
      "text/html": [
       "<div>\n",
       "<style scoped>\n",
       "    .dataframe tbody tr th:only-of-type {\n",
       "        vertical-align: middle;\n",
       "    }\n",
       "\n",
       "    .dataframe tbody tr th {\n",
       "        vertical-align: top;\n",
       "    }\n",
       "\n",
       "    .dataframe thead th {\n",
       "        text-align: right;\n",
       "    }\n",
       "</style>\n",
       "<table border=\"1\" class=\"dataframe\">\n",
       "  <thead>\n",
       "    <tr style=\"text-align: right;\">\n",
       "      <th></th>\n",
       "      <th>0</th>\n",
       "      <th>1</th>\n",
       "    </tr>\n",
       "  </thead>\n",
       "  <tbody>\n",
       "    <tr>\n",
       "      <th>0</th>\n",
       "      <td>D40</td>\n",
       "      <td>T2</td>\n",
       "    </tr>\n",
       "    <tr>\n",
       "      <th>1</th>\n",
       "      <td>D31</td>\n",
       "      <td>T64</td>\n",
       "    </tr>\n",
       "    <tr>\n",
       "      <th>2</th>\n",
       "      <td>D6</td>\n",
       "      <td>T58</td>\n",
       "    </tr>\n",
       "    <tr>\n",
       "      <th>3</th>\n",
       "      <td>D56</td>\n",
       "      <td>T49</td>\n",
       "    </tr>\n",
       "    <tr>\n",
       "      <th>4</th>\n",
       "      <td>D20</td>\n",
       "      <td>T28</td>\n",
       "    </tr>\n",
       "  </tbody>\n",
       "</table>\n",
       "</div>"
      ],
      "text/plain": [
       "     0    1\n",
       "0  D40   T2\n",
       "1  D31  T64\n",
       "2   D6  T58\n",
       "3  D56  T49\n",
       "4  D20  T28"
      ]
     },
     "metadata": {},
     "output_type": "display_data"
    },
    {
     "data": {
      "text/plain": [
       "'pairs:'"
      ]
     },
     "metadata": {},
     "output_type": "display_data"
    },
    {
     "data": {
      "text/plain": [
       "(400, 2)"
      ]
     },
     "metadata": {},
     "output_type": "display_data"
    }
   ],
   "source": [
    "# Read the data files (input.data, output.data, pairs.data).\n",
    "input_df = pd.read_csv('input.data', header=None, sep=' ')  # Assuming input data is space-separated\n",
    "output_df = pd.read_csv('output.data', header=None, sep=' ')  # Assuming output data is space-separated\n",
    "pairs_df = pd.read_csv('pairs.data', header=None, sep=' ')  # Assuming pairs data is space-separated\n",
    "display('input:', input_df.head(), 'input:', input_df.shape)\n",
    "display('output:', output_df.head(),'output:', output_df.shape)\n",
    "display('pairs:', pairs_df.head(), 'pairs:',pairs_df.shape)"
   ]
  },
  {
   "cell_type": "code",
   "execution_count": 5,
   "metadata": {
    "tags": []
   },
   "outputs": [],
   "source": [
    "#Data standardization using z-score\n",
    "scaler = StandardScaler()\n",
    "input_data_scaled = scaler.fit_transform(input_df)"
   ]
  },
  {
   "cell_type": "markdown",
   "metadata": {},
   "source": [
    "#### Implement and run cross-validation"
   ]
  },
  {
   "cell_type": "code",
   "execution_count": 6,
   "metadata": {},
   "outputs": [],
   "source": [
    "# Implement and run the requested cross-validation. Report and interpret its results."
   ]
  },
  {
   "cell_type": "code",
   "execution_count": 7,
   "metadata": {
    "tags": []
   },
   "outputs": [
    {
     "name": "stdout",
     "output_type": "stream",
     "text": [
      "C-index: 0.83\n"
     ]
    }
   ],
   "source": [
    "#Type A\n",
    "knn = KNeighborsRegressor(n_neighbors=10)\n",
    "loo = LeaveOneOut()\n",
    "yp = []\n",
    "for train_index, test_index in loo.split(input_data_scaled):\n",
    "    X_train, X_test = input_data_scaled[train_index], input_data_scaled[test_index]\n",
    "    y_train, y_test = output_df.values[train_index], output_df.values[test_index]\n",
    "    knn.fit(X_train, y_train)\n",
    "    yp0 = knn.predict(X_test)\n",
    "    yp.extend(yp0)\n",
    "print(\"C-index:\", round(cindex(output_df.values, yp), 2))"
   ]
  },
  {
   "cell_type": "code",
   "execution_count": 8,
   "metadata": {},
   "outputs": [],
   "source": [
    "# Type B\n",
    "knn = KNeighborsRegressor(n_neighbors=10)\n",
    "loo = LeaveOneOut()\n",
    "yp = []\n",
    "for train_index, test_index in loo.split(input_data_scaled):\n",
    "    X_train, X_test = input_data_scaled[train_index], input_data_scaled[test_index]\n",
    "    y_train, y_test = output_df.values[train_index], output_df.values[test_index]\n",
    "    X_train=\n",
    "    y_train=\n",
    "    knn.fit(X_train, y_train)\n",
    "    yp0 = knn.predict(X_test)\n",
    "    yp.extend(yp0)\n",
    "print(\"C-index:\", round(cindex(output_df.values, yp), 2))"
   ]
  },
  {
   "cell_type": "code",
   "execution_count": 9,
   "metadata": {},
   "outputs": [],
   "source": [
    "# Type C"
   ]
  },
  {
   "cell_type": "code",
   "execution_count": 10,
   "metadata": {
    "tags": []
   },
   "outputs": [],
   "source": [
    "# Type D"
   ]
  },
  {
   "cell_type": "code",
   "execution_count": null,
   "metadata": {},
   "outputs": [],
   "source": []
  },
  {
   "cell_type": "code",
   "execution_count": null,
   "metadata": {
    "tags": []
   },
   "outputs": [],
   "source": [
    "from sklearn.neighbors import KNeighborsRegressor\n",
    "from sklearn.model_selection import LeaveOneOut\n",
    "import numpy as np\n",
    "\n",
    "# Assuming input_data_scaled is your scaled input data and output_df is your output data\n",
    "\n",
    "# Define KNN regressor with K=10\n",
    "knn = KNeighborsRegressor(n_neighbors=10)\n",
    "\n",
    "# Create Leave-One-Out cross-validation iterator\n",
    "loo = LeaveOneOut()\n",
    "\n",
    "# Initialize list to store predictions\n",
    "yp = []\n",
    "\n",
    "# Iterate over Leave-One-Out splits\n",
    "for train_index, test_index in loo.split(input_data_scaled):\n",
    "    # Split data into training and testing sets\n",
    "    X_train, X_test = input_data_scaled[train_index], input_data_scaled[test_index]\n",
    "    y_train, y_test = output_df.values[train_index], output_df.values[test_index]\n",
    "    \n",
    "    # List to store modified training data\n",
    "    modified_X_train = []\n",
    "    modified_y_train = []\n",
    "    \n",
    "    # Iterate over each pair of rows in training data\n",
    "    for i in range(len(X_train)):\n",
    "        for j in range(i + 1, len(X_train)):\n",
    "            # Skip the pair if they are the same indices as the test data\n",
    "            if i == test_index[0] or j == test_index[0]:\n",
    "                continue\n",
    "            # Otherwise, remove the pair from training data and store\n",
    "            modified_X_train.append(np.delete(X_train, [i, j], axis=0))\n",
    "            modified_y_train.append(np.delete(y_train, [i, j], axis=0))\n",
    "    \n",
    "    # Train KNN regressor on each modified training set\n",
    "    for X_train_mod, y_train_mod in zip(modified_X_train, modified_y_train):\n",
    "        knn.fit(X_train_mod, y_train_mod)\n",
    "        # Predict on the test data\n",
    "        yp0 = knn.predict(X_test.reshape(1, -1))\n",
    "        yp.extend(yp0)\n",
    "\n",
    "# Calculate c-index\n",
    "c_index = round(cindex(output_df.values, yp), 2)\n",
    "\n",
    "# Print the c-index\n",
    "print(\"C-index:\", c_index)\n"
   ]
  },
  {
   "cell_type": "code",
   "execution_count": null,
   "metadata": {},
   "outputs": [],
   "source": []
  }
 ],
 "metadata": {
  "kernelspec": {
   "display_name": "Python 3 (ipykernel)",
   "language": "python",
   "name": "python3"
  },
  "language_info": {
   "codemirror_mode": {
    "name": "ipython",
    "version": 3
   },
   "file_extension": ".py",
   "mimetype": "text/x-python",
   "name": "python",
   "nbconvert_exporter": "python",
   "pygments_lexer": "ipython3",
   "version": "3.11.4"
  }
 },
 "nbformat": 4,
 "nbformat_minor": 4
}
